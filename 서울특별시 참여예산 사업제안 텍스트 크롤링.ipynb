{
 "cells": [
  {
   "cell_type": "code",
   "execution_count": 12,
   "metadata": {},
   "outputs": [],
   "source": [
    "import pandas as pd\n",
    "import numpy as np\n",
    "\n",
    "from selenium import webdriver\n",
    "from bs4 import BeautifulSoup\n",
    "import re\n",
    "from urllib.request import urlopen\n",
    "import requests\n",
    "import time\n",
    "from selenium.webdriver.common.keys import Keys"
   ]
  },
  {
   "cell_type": "code",
   "execution_count": 45,
   "metadata": {},
   "outputs": [],
   "source": [
    "driver = webdriver.Chrome(chromedriver)\n",
    "driver.implicitly_wait(3)\n",
    "driver.get('https://yesan.seoul.go.kr/join/0201List.do')\n",
    "\n",
    "html = driver.page_source\n",
    "soup = BeautifulSoup(html, 'html.parser')\n",
    "no = soup.select('#inner\\ asis > div:nth-child(4) > div.page_content_list > table > tbody > tr:nth-child(3) > td:nth-child(5)')"
   ]
  },
  {
   "cell_type": "code",
   "execution_count": 46,
   "metadata": {},
   "outputs": [
    {
     "data": {
      "text/plain": [
       "True"
      ]
     },
     "execution_count": 46,
     "metadata": {},
     "output_type": "execute_result"
    }
   ],
   "source": [
    "'광역제안' in list(no[0])"
   ]
  },
  {
   "cell_type": "code",
   "execution_count": 43,
   "metadata": {},
   "outputs": [
    {
     "data": {
      "text/plain": [
       "<td class=\"tdWriter sepLine\">광역제안</td>"
      ]
     },
     "execution_count": 43,
     "metadata": {},
     "output_type": "execute_result"
    }
   ],
   "source": [
    "list(no)[0]"
   ]
  },
  {
   "cell_type": "code",
   "execution_count": 55,
   "metadata": {},
   "outputs": [
    {
     "data": {
      "text/plain": [
       "'chromedriver = \\'/Users/User/Downloads/chromedriver_win32/chromedriver\\'\\n\\ndriver = webdriver.Chrome(chromedriver)\\ndriver.implicitly_wait(3)\\ndf = pd.DataFrame(columns=[\\'분야\\', \\'사업명\\',\\'사업위치\\',\\'소요사업비\\',\\'사업기간\\',\\'사업목적\\',\\'사업내용\\',\\'사업효과\\'])\\ndriver.get(\\'https://yesan.seoul.go.kr/join/0201List.do\\')\\nwhile True:\\n    for k in range(4,9):\\n        for i in range(2,12):\\n            driver.implicitly_wait(3) \\n            html = driver.page_source\\n            soup = BeautifulSoup(html, \\'html.parser\\')\\n            no = soup.select(\\'#inner\\\\ asis > div:nth-child(4) > div.page_content_list > table > tbody > tr:nth-child(\\'+str(i)+\\') > td:nth-child(5)\\')\\n            if \\'광역제안\\' in list(no[0]):\\n                #driver.find_element_by_css_selector(\\'#inner\\\\ asis > div:nth-child(4) > div.page_content_list > table > tbody > tr:nth-child(\\'+str(i)+\\') > td.tdSubject > a\\').click()\\n                driver.find_element_by_xpath(\\'//*[@id=\"inner asis\"]/div[2]/div[2]/table/tbody/tr[\\'+str(i)+\\']/td[3]/a\\').send_keys(Keys.ENTER)\\n                html = driver.page_source\\n                soup = BeautifulSoup(html, \\'html.parser\\')\\n                a=[]\\n                for i in range(2,10):    \\n                    notices = soup.select(\\'#bizSuggForm > div:nth-child(10) > table > tbody > tr:nth-child(\\'+str(i)+\\') > td.td_view_content\\')\\n                    for n in notices:\\n                        a.append(n.text.strip().replace(\\'\\n\\',\\'\\'))\\n\\n                df = df.append(pd.Series(a, index=df.columns), ignore_index=True)\\n                driver.back()\\n\\n        driver.find_element_by_xpath(\\'//*[@id=\"inner asis\"]/div[2]/nav/span/a[\\'+str(k)+\\']\\').click() '"
      ]
     },
     "execution_count": 55,
     "metadata": {},
     "output_type": "execute_result"
    }
   ],
   "source": [
    "chromedriver = '/Users/User/Downloads/chromedriver_win32/chromedriver'\n",
    "\n",
    "driver = webdriver.Chrome(chromedriver)\n",
    "driver.implicitly_wait(3)\n",
    "df = pd.DataFrame(columns=['분야', '사업명','사업위치','소요사업비','사업기간','사업목적','사업내용','사업효과'])\n",
    "driver.get('https://yesan.seoul.go.kr/join/0201List.do')\n",
    "while True:\n",
    "    for k in range(4,9):\n",
    "        for i in range(2,12):\n",
    "            driver.implicitly_wait(3) \n",
    "            html = driver.page_source\n",
    "            soup = BeautifulSoup(html, 'html.parser')\n",
    "            no = soup.select('#inner\\ asis > div:nth-child(4) > div.page_content_list > table > tbody > tr:nth-child('+str(i)+') > td:nth-child(5)')\n",
    "            if '광역제안' in list(no[0]):\n",
    "                #driver.find_element_by_css_selector('#inner\\ asis > div:nth-child(4) > div.page_content_list > table > tbody > tr:nth-child('+str(i)+') > td.tdSubject > a').click()\n",
    "                driver.find_element_by_xpath('//*[@id=\"inner asis\"]/div[2]/div[2]/table/tbody/tr['+str(i)+']/td[3]/a').send_keys(Keys.ENTER)\n",
    "                html = driver.page_source\n",
    "                soup = BeautifulSoup(html, 'html.parser')\n",
    "                a=[]\n",
    "                for i in range(2,10):    \n",
    "                    notices = soup.select('#bizSuggForm > div:nth-child(10) > table > tbody > tr:nth-child('+str(i)+') > td.td_view_content')\n",
    "                    for n in notices:\n",
    "                        a.append(n.text.strip().replace('\\n',''))\n",
    "\n",
    "                df = df.append(pd.Series(a, index=df.columns), ignore_index=True)\n",
    "                driver.back()\n",
    "\n",
    "        driver.find_element_by_xpath('//*[@id=\"inner asis\"]/div[2]/nav/span/a['+str(k)+']').click() \n"
   ]
  },
  {
   "cell_type": "code",
   "execution_count": 54,
   "metadata": {},
   "outputs": [
    {
     "data": {
      "text/html": [
       "<div>\n",
       "<style scoped>\n",
       "    .dataframe tbody tr th:only-of-type {\n",
       "        vertical-align: middle;\n",
       "    }\n",
       "\n",
       "    .dataframe tbody tr th {\n",
       "        vertical-align: top;\n",
       "    }\n",
       "\n",
       "    .dataframe thead th {\n",
       "        text-align: right;\n",
       "    }\n",
       "</style>\n",
       "<table border=\"1\" class=\"dataframe\">\n",
       "  <thead>\n",
       "    <tr style=\"text-align: right;\">\n",
       "      <th></th>\n",
       "      <th>분야</th>\n",
       "      <th>사업명</th>\n",
       "      <th>사업위치</th>\n",
       "      <th>소요사업비</th>\n",
       "      <th>사업기간</th>\n",
       "      <th>사업목적</th>\n",
       "      <th>사업내용</th>\n",
       "      <th>사업효과</th>\n",
       "    </tr>\n",
       "  </thead>\n",
       "  <tbody>\n",
       "    <tr>\n",
       "      <th>0</th>\n",
       "      <td>경제·일자리</td>\n",
       "      <td>장난감나라의 장난감배달 서비스?</td>\n",
       "      <td>서울시전체  서울시 전체</td>\n",
       "      <td>100,000천원</td>\n",
       "      <td>2021-01-01 ~ 2021-12-31</td>\n",
       "      <td>요즘은 자치구마다 아이들의 장난감을 무료로 빌려주는_장난감 나라'가 많이 설치되어있...</td>\n",
       "      <td>장난감 나라의 장난감 대여 신청 및 반납신청 가능한 시스템（인터넷，앱） 구축- 배송...</td>\n",
       "      <td>시스템 개발 및장난감배송가방 제작</td>\n",
       "    </tr>\n",
       "    <tr>\n",
       "      <th>1</th>\n",
       "      <td>도시안전</td>\n",
       "      <td>등촌지하차도 조명등 교체요청</td>\n",
       "      <td>양천구  양천구 등촌지하차도</td>\n",
       "      <td>100,000천원</td>\n",
       "      <td>2021-01-01 ~ 2021-12-31</td>\n",
       "      <td>저희 집 근처에는 등촌지하차도가 있습니다. 목동14단지 근처에 있는 지하차도 인데 ...</td>\n",
       "      <td>등촌지하차도 내부 조명 교체</td>\n",
       "      <td>지하차도 이용 시민의 안전</td>\n",
       "    </tr>\n",
       "    <tr>\n",
       "      <th>2</th>\n",
       "      <td>환경</td>\n",
       "      <td>쾌적한 산책 공간 조성을 위한 쿨링포그 및 미세먼지 저감벤치 설치 사업</td>\n",
       "      <td>불광천변（서울시 마포구 성산동 405 ~ 은평구 증산로 400）</td>\n",
       "      <td>300,000천원</td>\n",
       "      <td>2021-01-01 ~ 2021-06-30</td>\n",
       "      <td>기후변화로 인한 고농도 미세먼지 발생 및 극심한 폭염에는 취약계층 등의 시민들이 실...</td>\n",
       "      <td>■ 사업위치: 불광천변（서울시 마포구 성산동 405 ? 은평구 응암동 114-9） ...</td>\n",
       "      <td>산책로를 이용하는 시민들에게 쾌적한 기후환경을 제공하며，도심열섬화 해소，고농도 오 ...</td>\n",
       "    </tr>\n",
       "    <tr>\n",
       "      <th>3</th>\n",
       "      <td>경제·일자리</td>\n",
       "      <td>전통시장에서 wifi를 이용할 수 있게 해 주세요~</td>\n",
       "      <td>양천구 전통시장</td>\n",
       "      <td>200,000천원</td>\n",
       "      <td>2021-01-01 ~ 2021-12-31</td>\n",
       "      <td>대형 마트보다는 근처의 전통시장을 자주 이용합니다. 스마트폰으로 지역사랑상품권을 이...</td>\n",
       "      <td>전통시장에 공공 wifi 설치기존에 설치된 곳도 성능개선 필요</td>\n",
       "      <td>주민들이 시장을 편리하게 이용제로페이 등 지역사랑 상품권 이용에 효율적</td>\n",
       "    </tr>\n",
       "    <tr>\n",
       "      <th>4</th>\n",
       "      <td>공원</td>\n",
       "      <td>안양천변 공원에 와이파이 설치</td>\n",
       "      <td>구로구,양천구,영등포구  안양천변 산책로 및 공원 등</td>\n",
       "      <td>500,000천원</td>\n",
       "      <td>2021-01-01 ~ 2021-12-31</td>\n",
       "      <td>아이들과 양천구의 안양천 신정교 아래에 자주 가곤 하는데，와이파이 연결이 잘 되지 ...</td>\n",
       "      <td>안양천의 주민들 이용공간에 와이파이 설치안양천 전체에 와이파이 설치가 어려울 경우 ...</td>\n",
       "      <td>주민들이 더욱 편리하게 안양천을 이용할 수 있도록 함,</td>\n",
       "    </tr>\n",
       "    <tr>\n",
       "      <th>...</th>\n",
       "      <td>...</td>\n",
       "      <td>...</td>\n",
       "      <td>...</td>\n",
       "      <td>...</td>\n",
       "      <td>...</td>\n",
       "      <td>...</td>\n",
       "      <td>...</td>\n",
       "      <td>...</td>\n",
       "    </tr>\n",
       "    <tr>\n",
       "      <th>2840</th>\n",
       "      <td>문화체육관광</td>\n",
       "      <td>청계천 인도(산책로) 보수공사</td>\n",
       "      <td>동대문구,성동구,성북구,종로구,중구,중랑구  청계천 인도(산책로) 전체</td>\n",
       "      <td>1,000,000천원</td>\n",
       "      <td>2021-01-01 ~ 2021-01-31</td>\n",
       "      <td>○현 문제점청계천  서울시민 및 해외 관광객이 서울시 명물로 많이 이용되고 있음 청...</td>\n",
       "      <td>청계천을  서울시민 및 해외 관광객이 서울시 명물로 많이 이용되고 있으나 청계천 산...</td>\n",
       "      <td>서울시 명물인 청계천을 홍보하고 강남에 석촌호수가 있다면 강북에는 청계천을 잘 개선...</td>\n",
       "    </tr>\n",
       "    <tr>\n",
       "      <th>2841</th>\n",
       "      <td>문화체육관광</td>\n",
       "      <td>구립회관을 이용한 자율 도서관 활용</td>\n",
       "      <td>서울시전체  서초구립중앙노인복지회관</td>\n",
       "      <td>300,000천원</td>\n",
       "      <td>2021-01-01 ~ 2021-12-31</td>\n",
       "      <td>○현 문제점노인복지회관은 동네 주민들의 접근성이 좋고 주차장도 완비되어 있어 일반 ...</td>\n",
       "      <td>노인복지시설에 한층을 도서관 및 독서실로 이용할 수 있도록 하여 주말에도 자유롭게 ...</td>\n",
       "      <td>노인복지시설의 활용도가 다양해질뿐만 아니라 일반 주민들이 노인복지에 더 관심을 가지...</td>\n",
       "    </tr>\n",
       "    <tr>\n",
       "      <th>2842</th>\n",
       "      <td>복지·행정</td>\n",
       "      <td>발명품 사장을 막기 위한 정책(발명품 노쇼를 쇼로! )</td>\n",
       "      <td>서울시전체  서울 강북구 한천로 105길 24.</td>\n",
       "      <td>50,000천원</td>\n",
       "      <td>2021-01-01 ~ 2021-04-15</td>\n",
       "      <td>○현 문제점안녕하십니까?경제적으로 너무 여력이 없는 사람들은 꾸준히 연구하여 새로운...</td>\n",
       "      <td>특수 신발이지만 신발 제품이므로 시제품을 만들어 보는데는 1천만 원 내외의 비용만 ...</td>\n",
       "      <td>인간이 원시인을 벗어나 신발을 착용하기 시작한 후 부터 지금까지 없었던 메커니즘의 ...</td>\n",
       "    </tr>\n",
       "    <tr>\n",
       "      <th>2843</th>\n",
       "      <td>문화체육관광</td>\n",
       "      <td>서울특별시청, 25개 구청, 552개 동 청사 앞에 지역특성을 상징하는 시 일반 공...</td>\n",
       "      <td>서울시전체  서울특별시청 앞. 25개 각 구청 앞. 522개 동사무소 앞(총 548곳)</td>\n",
       "      <td>1,644,000천원</td>\n",
       "      <td>2021-01-01 ~ 2021-06-30</td>\n",
       "      <td>○현 문제점:특이사항 없슴.○추진배경:지역주민의 향토사랑과 자긍심 고양.○사업목적:...</td>\n",
       "      <td>지역특성과 자부심을 잘 나타낼 수 있는 시비를 세워 급속한 도시화로 인한 척박한 토...</td>\n",
       "      <td>주민들의 애향심은 물론, 민과 관의 유대관계 강화, 결집력과 자긍심을 배가시켜 주인...</td>\n",
       "    </tr>\n",
       "    <tr>\n",
       "      <th>2844</th>\n",
       "      <td>도시안전</td>\n",
       "      <td>신대방역~구로디지털단지역 방향 육교에 자전거 레일을 만들어주세요.</td>\n",
       "      <td>관악구,동작구  관악구 신사로 70 건너편 개천 위 육교</td>\n",
       "      <td>500,000천원</td>\n",
       "      <td>2021-01-01 ~ 2021-02-28</td>\n",
       "      <td>○현 문제점신대방역 한국 금융안전 빌딩 앞 과 신사로 70 원주민 부동산을 이어주는...</td>\n",
       "      <td>동작구, 관악구민들이 육교로 자전거를 편하게 끌고 올르고 내려가기 위한 계단 양측(...</td>\n",
       "      <td>시민들의 편의 증대.레일을 계단 중앙에만 할경우 양방향으로 오르고 내려오는 소요를 ...</td>\n",
       "    </tr>\n",
       "  </tbody>\n",
       "</table>\n",
       "<p>2845 rows × 8 columns</p>\n",
       "</div>"
      ],
      "text/plain": [
       "          분야                                                사업명  \\\n",
       "0     경제·일자리                                  장난감나라의 장난감배달 서비스?   \n",
       "1       도시안전                                    등촌지하차도 조명등 교체요청   \n",
       "2         환경            쾌적한 산책 공간 조성을 위한 쿨링포그 및 미세먼지 저감벤치 설치 사업   \n",
       "3     경제·일자리                       전통시장에서 wifi를 이용할 수 있게 해 주세요~   \n",
       "4         공원                                   안양천변 공원에 와이파이 설치   \n",
       "...      ...                                                ...   \n",
       "2840  문화체육관광                                   청계천 인도(산책로) 보수공사   \n",
       "2841  문화체육관광                                구립회관을 이용한 자율 도서관 활용   \n",
       "2842   복지·행정                     발명품 사장을 막기 위한 정책(발명품 노쇼를 쇼로! )   \n",
       "2843  문화체육관광  서울특별시청, 25개 구청, 552개 동 청사 앞에 지역특성을 상징하는 시 일반 공...   \n",
       "2844    도시안전               신대방역~구로디지털단지역 방향 육교에 자전거 레일을 만들어주세요.   \n",
       "\n",
       "                                                  사업위치        소요사업비  \\\n",
       "0                                        서울시전체  서울시 전체    100,000천원   \n",
       "1                                      양천구  양천구 등촌지하차도    100,000천원   \n",
       "2                  불광천변（서울시 마포구 성산동 405 ~ 은평구 증산로 400）    300,000천원   \n",
       "3                                             양천구 전통시장    200,000천원   \n",
       "4                        구로구,양천구,영등포구  안양천변 산책로 및 공원 등    500,000천원   \n",
       "...                                                ...          ...   \n",
       "2840           동대문구,성동구,성북구,종로구,중구,중랑구  청계천 인도(산책로) 전체  1,000,000천원   \n",
       "2841                               서울시전체  서초구립중앙노인복지회관    300,000천원   \n",
       "2842                        서울시전체  서울 강북구 한천로 105길 24.     50,000천원   \n",
       "2843  서울시전체  서울특별시청 앞. 25개 각 구청 앞. 522개 동사무소 앞(총 548곳)  1,644,000천원   \n",
       "2844                   관악구,동작구  관악구 신사로 70 건너편 개천 위 육교    500,000천원   \n",
       "\n",
       "                         사업기간  \\\n",
       "0     2021-01-01 ~ 2021-12-31   \n",
       "1     2021-01-01 ~ 2021-12-31   \n",
       "2     2021-01-01 ~ 2021-06-30   \n",
       "3     2021-01-01 ~ 2021-12-31   \n",
       "4     2021-01-01 ~ 2021-12-31   \n",
       "...                       ...   \n",
       "2840  2021-01-01 ~ 2021-01-31   \n",
       "2841  2021-01-01 ~ 2021-12-31   \n",
       "2842  2021-01-01 ~ 2021-04-15   \n",
       "2843  2021-01-01 ~ 2021-06-30   \n",
       "2844  2021-01-01 ~ 2021-02-28   \n",
       "\n",
       "                                                   사업목적  \\\n",
       "0     요즘은 자치구마다 아이들의 장난감을 무료로 빌려주는_장난감 나라'가 많이 설치되어있...   \n",
       "1     저희 집 근처에는 등촌지하차도가 있습니다. 목동14단지 근처에 있는 지하차도 인데 ...   \n",
       "2     기후변화로 인한 고농도 미세먼지 발생 및 극심한 폭염에는 취약계층 등의 시민들이 실...   \n",
       "3     대형 마트보다는 근처의 전통시장을 자주 이용합니다. 스마트폰으로 지역사랑상품권을 이...   \n",
       "4     아이들과 양천구의 안양천 신정교 아래에 자주 가곤 하는데，와이파이 연결이 잘 되지 ...   \n",
       "...                                                 ...   \n",
       "2840  ○현 문제점청계천  서울시민 및 해외 관광객이 서울시 명물로 많이 이용되고 있음 청...   \n",
       "2841  ○현 문제점노인복지회관은 동네 주민들의 접근성이 좋고 주차장도 완비되어 있어 일반 ...   \n",
       "2842  ○현 문제점안녕하십니까?경제적으로 너무 여력이 없는 사람들은 꾸준히 연구하여 새로운...   \n",
       "2843  ○현 문제점:특이사항 없슴.○추진배경:지역주민의 향토사랑과 자긍심 고양.○사업목적:...   \n",
       "2844  ○현 문제점신대방역 한국 금융안전 빌딩 앞 과 신사로 70 원주민 부동산을 이어주는...   \n",
       "\n",
       "                                                   사업내용  \\\n",
       "0     장난감 나라의 장난감 대여 신청 및 반납신청 가능한 시스템（인터넷，앱） 구축- 배송...   \n",
       "1                                       등촌지하차도 내부 조명 교체   \n",
       "2     ■ 사업위치: 불광천변（서울시 마포구 성산동 405 ? 은평구 응암동 114-9） ...   \n",
       "3                    전통시장에 공공 wifi 설치기존에 설치된 곳도 성능개선 필요   \n",
       "4     안양천의 주민들 이용공간에 와이파이 설치안양천 전체에 와이파이 설치가 어려울 경우 ...   \n",
       "...                                                 ...   \n",
       "2840  청계천을  서울시민 및 해외 관광객이 서울시 명물로 많이 이용되고 있으나 청계천 산...   \n",
       "2841  노인복지시설에 한층을 도서관 및 독서실로 이용할 수 있도록 하여 주말에도 자유롭게 ...   \n",
       "2842  특수 신발이지만 신발 제품이므로 시제품을 만들어 보는데는 1천만 원 내외의 비용만 ...   \n",
       "2843  지역특성과 자부심을 잘 나타낼 수 있는 시비를 세워 급속한 도시화로 인한 척박한 토...   \n",
       "2844  동작구, 관악구민들이 육교로 자전거를 편하게 끌고 올르고 내려가기 위한 계단 양측(...   \n",
       "\n",
       "                                                   사업효과  \n",
       "0                                    시스템 개발 및장난감배송가방 제작  \n",
       "1                                        지하차도 이용 시민의 안전  \n",
       "2     산책로를 이용하는 시민들에게 쾌적한 기후환경을 제공하며，도심열섬화 해소，고농도 오 ...  \n",
       "3               주민들이 시장을 편리하게 이용제로페이 등 지역사랑 상품권 이용에 효율적  \n",
       "4                        주민들이 더욱 편리하게 안양천을 이용할 수 있도록 함,  \n",
       "...                                                 ...  \n",
       "2840  서울시 명물인 청계천을 홍보하고 강남에 석촌호수가 있다면 강북에는 청계천을 잘 개선...  \n",
       "2841  노인복지시설의 활용도가 다양해질뿐만 아니라 일반 주민들이 노인복지에 더 관심을 가지...  \n",
       "2842  인간이 원시인을 벗어나 신발을 착용하기 시작한 후 부터 지금까지 없었던 메커니즘의 ...  \n",
       "2843  주민들의 애향심은 물론, 민과 관의 유대관계 강화, 결집력과 자긍심을 배가시켜 주인...  \n",
       "2844  시민들의 편의 증대.레일을 계단 중앙에만 할경우 양방향으로 오르고 내려오는 소요를 ...  \n",
       "\n",
       "[2845 rows x 8 columns]"
      ]
     },
     "execution_count": 54,
     "metadata": {},
     "output_type": "execute_result"
    }
   ],
   "source": [
    "df"
   ]
  },
  {
   "cell_type": "code",
   "execution_count": 58,
   "metadata": {},
   "outputs": [],
   "source": [
    "df.to_csv('서울시_민원_크롤링데이터.csv', index=False)"
   ]
  },
  {
   "cell_type": "code",
   "execution_count": 60,
   "metadata": {},
   "outputs": [
    {
     "data": {
      "text/plain": [
       "공원        539\n",
       "교통        414\n",
       "도시안전      407\n",
       "복지·행정     400\n",
       "환경        361\n",
       "문화체육관광    316\n",
       "여성·교육     185\n",
       "경제·일자리    162\n",
       "주택·재생      61\n",
       "Name: 분야, dtype: int64"
      ]
     },
     "execution_count": 60,
     "metadata": {},
     "output_type": "execute_result"
    }
   ],
   "source": [
    "df.분야.value_counts()"
   ]
  },
  {
   "cell_type": "code",
   "execution_count": null,
   "metadata": {},
   "outputs": [],
   "source": [
    "# 지역 별 가장 많이 나온 키워드 중심으로 새로운 인사이트 제시"
   ]
  }
 ],
 "metadata": {
  "kernelspec": {
   "display_name": "Python 3",
   "language": "python",
   "name": "python3"
  },
  "language_info": {
   "codemirror_mode": {
    "name": "ipython",
    "version": 3
   },
   "file_extension": ".py",
   "mimetype": "text/x-python",
   "name": "python",
   "nbconvert_exporter": "python",
   "pygments_lexer": "ipython3",
   "version": "3.8.3"
  }
 },
 "nbformat": 4,
 "nbformat_minor": 4
}
